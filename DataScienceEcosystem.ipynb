{
 "cells": [
  {
   "cell_type": "markdown",
   "id": "63ed2d9b-a0a2-477c-8e23-153a0eeea672",
   "metadata": {},
   "source": [
    "# Data Science Tools and Ecosystem"
   ]
  },
  {
   "cell_type": "markdown",
   "id": "53639093-3f5c-46cb-86c7-0d50a4796483",
   "metadata": {},
   "source": [
    "In this notebook, Data Science Tools and Ecosystem are summarized."
   ]
  },
  {
   "cell_type": "markdown",
   "id": "59609527-5c70-4f0c-aff1-2f32e4b3296f",
   "metadata": {},
   "source": [
    "**Objectives:** \n",
    "\n",
    "Some of the key takeaways from the course: \n",
    "* Popular languages for Data Science\n",
    "* Commonly used libraries in Data Science\n",
    "* Data Science Tools\n",
    "* Some arithmatic expression examples in Python"
   ]
  },
  {
   "cell_type": "code",
   "execution_count": null,
   "id": "3bd7899d-6741-4a7c-b94c-eefbc7c52eff",
   "metadata": {},
   "outputs": [],
   "source": [
    "\n",
    "\n"
   ]
  },
  {
   "cell_type": "markdown",
   "id": "18ff5314-00c8-45c4-9300-32406559aafb",
   "metadata": {},
   "source": [
    "* Some of the popular languages that Data Scientists use are:\n",
    "  * Python\n",
    "  * R\n",
    "  * SQL\n",
    "  * DAX\n",
    "  * ..."
   ]
  },
  {
   "cell_type": "markdown",
   "id": "c8b69c7f-329b-4f6d-a226-bb69b9533644",
   "metadata": {},
   "source": [
    "* Some of the commonly used libraries used by Data Scientists include:\n",
    "  * NumPy\n",
    "  * Pandas\n",
    "  * Matplotlib\n",
    "  * Seaborn\n",
    "  * Scikit-learn\n",
    "  * TensorFlow\n",
    "  * PyTorch\n",
    "  *  SciPy "
   ]
  },
  {
   "cell_type": "markdown",
   "id": "53e2a023-c2ca-4bc2-88f2-6b0eae944493",
   "metadata": {},
   "source": [
    "| Data Science Tools |\n",
    "| -------------|\n",
    "| Jupyter Notebook |\n",
    "| RStudio | \n",
    "| Spyder | "
   ]
  },
  {
   "cell_type": "markdown",
   "id": "4cb8f256-b49c-4260-9093-c9e21cd0ebe4",
   "metadata": {},
   "source": [
    "### Below are a few examples of evaluating arithmetic expressions in Python."
   ]
  },
  {
   "cell_type": "code",
   "execution_count": 8,
   "id": "2cbf4b70-70bd-42d8-be11-6c5ce68c8fe3",
   "metadata": {},
   "outputs": [
    {
     "data": {
      "text/plain": [
       "17.0"
      ]
     },
     "execution_count": 8,
     "metadata": {},
     "output_type": "execute_result"
    }
   ],
   "source": [
    "# This a simple arithmetic expression to mutiply then add integers.\n",
    "(3*4)+5."
   ]
  },
  {
   "cell_type": "code",
   "execution_count": 18,
   "id": "70af689c-637f-470a-9e76-b34edcd73443",
   "metadata": {},
   "outputs": [
    {
     "name": "stdout",
     "output_type": "stream",
     "text": [
      "200 minutes = 3 hours and 20 minutes\n"
     ]
    }
   ],
   "source": [
    "# This will convert 200 minutes to hours by diving by 60.\n",
    "\n",
    "H = 200 // 60\n",
    "M = 200 % 60\n",
    "\n",
    "print(f\"200 minutes = {H} hours and {M} minutes\")\n",
    "\n"
   ]
  },
  {
   "cell_type": "markdown",
   "id": "d6cbeeeb-28e5-46ff-9239-fb37f1a879ca",
   "metadata": {},
   "source": [
    "## Author\n",
    "Vahid Aataf"
   ]
  },
  {
   "cell_type": "code",
   "execution_count": null,
   "id": "ce9f7ffc-6337-473c-b426-773d2589d7e3",
   "metadata": {},
   "outputs": [],
   "source": []
  }
 ],
 "metadata": {
  "kernelspec": {
   "display_name": "Python [conda env:base] *",
   "language": "python",
   "name": "conda-base-py"
  },
  "language_info": {
   "codemirror_mode": {
    "name": "ipython",
    "version": 3
   },
   "file_extension": ".py",
   "mimetype": "text/x-python",
   "name": "python",
   "nbconvert_exporter": "python",
   "pygments_lexer": "ipython3",
   "version": "3.13.5"
  }
 },
 "nbformat": 4,
 "nbformat_minor": 5
}
